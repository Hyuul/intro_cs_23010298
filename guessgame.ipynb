{
 "cells": [
  {
   "cell_type": "markdown",
   "id": "6473edfe",
   "metadata": {},
   "source": [
    "# Guessgames"
   ]
  },
  {
   "cell_type": "code",
   "execution_count": 4,
   "id": "3d4f5eda",
   "metadata": {},
   "outputs": [
    {
     "name": "stdout",
     "output_type": "stream",
     "text": [
      "What number am I thinking of? 7\n",
      "No, that's not it.\n"
     ]
    }
   ],
   "source": [
    "secret_number = 7\n",
    "guess = input(\"What number am I thinking of? \")\n",
    "if secret_number == guess:\n",
    " print(\"Yay! You got it.\")\n",
    "else:\n",
    " print(\"No, that's not it.\")"
   ]
  },
  {
   "cell_type": "code",
   "execution_count": 2,
   "id": "1de8ca61",
   "metadata": {},
   "outputs": [
    {
     "ename": "IndentationError",
     "evalue": "unexpected indent (1519159172.py, line 6)",
     "output_type": "error",
     "traceback": [
      "\u001b[0;36m  Cell \u001b[0;32mIn [2], line 6\u001b[0;36m\u001b[0m\n\u001b[0;31m    break\u001b[0m\n\u001b[0m    ^\u001b[0m\n\u001b[0;31mIndentationError\u001b[0m\u001b[0;31m:\u001b[0m unexpected indent\n"
     ]
    }
   ],
   "source": [
    "from random import randint\n",
    "secret_number = randint(1, 10)\n",
    "while True:\n",
    "    guess = input(\"What number am I thinking of? \")\n",
    "    if secret_number == guess:         print(\"Yay! You got it.\")\n",
    "        break\n",
    "    else:\n",
    "        print(\"No, that's not it.\") "
   ]
  },
  {
   "cell_type": "code",
   "execution_count": null,
   "id": "95507c01",
   "metadata": {},
   "outputs": [],
   "source": [
    "from random import randint\n",
    "secret_number = randint(1, 10)\n",
    "while True:\n",
    "    guess = input(\"What number am I thinking of? \")\n",
    "    if secret_number == guess:\n",
    "        print(\"Yay! You got it.\")\n",
    "        break\n",
    "    elif secret_number > guess:\n",
    "        print(\"No, that's too low.\")\n",
    "    else:\n",
    "        print(\"No, that's too high.\")"
   ]
  },
  {
   "cell_type": "code",
   "execution_count": 3,
   "id": "239be6af",
   "metadata": {},
   "outputs": [
    {
     "ename": "ModuleNotFoundError",
     "evalue": "No module named 'guessgame'",
     "output_type": "error",
     "traceback": [
      "\u001b[0;31m---------------------------------------------------------------------------\u001b[0m",
      "\u001b[0;31mModuleNotFoundError\u001b[0m                       Traceback (most recent call last)",
      "Cell \u001b[0;32mIn [3], line 1\u001b[0m\n\u001b[0;32m----> 1\u001b[0m \u001b[38;5;28;01mimport\u001b[39;00m \u001b[38;5;21;01mguessgame\u001b[39;00m\n",
      "\u001b[0;31mModuleNotFoundError\u001b[0m: No module named 'guessgame'"
     ]
    }
   ],
   "source": [
    "import guessgame"
   ]
  },
  {
   "cell_type": "code",
   "execution_count": null,
   "id": "2a810cd5",
   "metadata": {},
   "outputs": [],
   "source": []
  }
 ],
 "metadata": {
  "kernelspec": {
   "display_name": "Python 3 (ipykernel)",
   "language": "python",
   "name": "python3"
  },
  "language_info": {
   "codemirror_mode": {
    "name": "ipython",
    "version": 3
   },
   "file_extension": ".py",
   "mimetype": "text/x-python",
   "name": "python",
   "nbconvert_exporter": "python",
   "pygments_lexer": "ipython3",
   "version": "3.9.7"
  }
 },
 "nbformat": 4,
 "nbformat_minor": 5
}
