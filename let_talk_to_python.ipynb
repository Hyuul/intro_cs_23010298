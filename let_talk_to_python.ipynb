{
 "cells": [
  {
   "cell_type": "markdown",
   "id": "18a1d24f",
   "metadata": {},
   "source": [
    "# LET TALK TO PYTHON\n"
   ]
  },
  {
   "cell_type": "markdown",
   "id": "3e10e4b0",
   "metadata": {},
   "source": [
    "## MATH"
   ]
  },
  {
   "cell_type": "code",
   "execution_count": 1,
   "id": "b1b98e8a",
   "metadata": {},
   "outputs": [
    {
     "data": {
      "text/plain": [
       "9"
      ]
     },
     "execution_count": 1,
     "metadata": {},
     "output_type": "execute_result"
    }
   ],
   "source": [
    "# Phép cộng\n",
    "1 + 2 + 6"
   ]
  },
  {
   "cell_type": "code",
   "execution_count": 2,
   "id": "240b9d2c",
   "metadata": {},
   "outputs": [
    {
     "data": {
      "text/plain": [
       "-4"
      ]
     },
     "execution_count": 2,
     "metadata": {},
     "output_type": "execute_result"
    }
   ],
   "source": [
    "# Phép trừ\n",
    "9 - 5 -8"
   ]
  },
  {
   "cell_type": "code",
   "execution_count": 3,
   "id": "0e46e3cc",
   "metadata": {},
   "outputs": [
    {
     "data": {
      "text/plain": [
       "27"
      ]
     },
     "execution_count": 3,
     "metadata": {},
     "output_type": "execute_result"
    }
   ],
   "source": [
    "# Phép nhân\n",
    "9 * 3"
   ]
  },
  {
   "cell_type": "code",
   "execution_count": 4,
   "id": "81cdf308",
   "metadata": {},
   "outputs": [
    {
     "data": {
      "text/plain": [
       "3.0"
      ]
     },
     "execution_count": 4,
     "metadata": {},
     "output_type": "execute_result"
    }
   ],
   "source": [
    "# Phép chia\n",
    "6 / 2\n"
   ]
  },
  {
   "cell_type": "code",
   "execution_count": 5,
   "id": "7a72aad5",
   "metadata": {},
   "outputs": [
    {
     "data": {
      "text/plain": [
       "2.857142857142857"
      ]
     },
     "execution_count": 5,
     "metadata": {},
     "output_type": "execute_result"
    }
   ],
   "source": [
    "20 / 7"
   ]
  },
  {
   "cell_type": "code",
   "execution_count": 6,
   "id": "86f10e0c",
   "metadata": {},
   "outputs": [
    {
     "data": {
      "text/plain": [
       "3.3333333333333335"
      ]
     },
     "execution_count": 6,
     "metadata": {},
     "output_type": "execute_result"
    }
   ],
   "source": [
    "10 / 3\n"
   ]
  },
  {
   "cell_type": "code",
   "execution_count": 7,
   "id": "b09c3753",
   "metadata": {},
   "outputs": [
    {
     "data": {
      "text/plain": [
       "3"
      ]
     },
     "execution_count": 7,
     "metadata": {},
     "output_type": "execute_result"
    }
   ],
   "source": [
    "round(10/3)"
   ]
  },
  {
   "cell_type": "code",
   "execution_count": 8,
   "id": "7365651d",
   "metadata": {},
   "outputs": [
    {
     "data": {
      "text/plain": [
       "3.33333"
      ]
     },
     "execution_count": 8,
     "metadata": {},
     "output_type": "execute_result"
    }
   ],
   "source": [
    "round(10/3,5)"
   ]
  },
  {
   "cell_type": "code",
   "execution_count": 9,
   "id": "575671e9",
   "metadata": {},
   "outputs": [
    {
     "data": {
      "text/plain": [
       "True"
      ]
     },
     "execution_count": 9,
     "metadata": {},
     "output_type": "execute_result"
    }
   ],
   "source": [
    "5 == 5"
   ]
  },
  {
   "cell_type": "code",
   "execution_count": 10,
   "id": "f5448e07",
   "metadata": {},
   "outputs": [
    {
     "data": {
      "text/plain": [
       "True"
      ]
     },
     "execution_count": 10,
     "metadata": {},
     "output_type": "execute_result"
    }
   ],
   "source": [
    "5!=4"
   ]
  },
  {
   "cell_type": "code",
   "execution_count": 11,
   "id": "ba94127b",
   "metadata": {},
   "outputs": [
    {
     "data": {
      "text/plain": [
       "False"
      ]
     },
     "execution_count": 11,
     "metadata": {},
     "output_type": "execute_result"
    }
   ],
   "source": [
    "5!=5"
   ]
  },
  {
   "cell_type": "code",
   "execution_count": 12,
   "id": "8f02a691",
   "metadata": {},
   "outputs": [
    {
     "data": {
      "text/plain": [
       "1"
      ]
     },
     "execution_count": 12,
     "metadata": {},
     "output_type": "execute_result"
    }
   ],
   "source": [
    "10%3"
   ]
  },
  {
   "cell_type": "code",
   "execution_count": 13,
   "id": "e6a83f9a",
   "metadata": {},
   "outputs": [
    {
     "data": {
      "text/plain": [
       "True"
      ]
     },
     "execution_count": 13,
     "metadata": {},
     "output_type": "execute_result"
    }
   ],
   "source": [
    "6<=6"
   ]
  },
  {
   "cell_type": "code",
   "execution_count": 14,
   "id": "a951dbde",
   "metadata": {},
   "outputs": [
    {
     "data": {
      "text/plain": [
       "False"
      ]
     },
     "execution_count": 14,
     "metadata": {},
     "output_type": "execute_result"
    }
   ],
   "source": [
    "6>7"
   ]
  },
  {
   "cell_type": "code",
   "execution_count": 15,
   "id": "23b58fec",
   "metadata": {},
   "outputs": [
    {
     "data": {
      "text/plain": [
       "True"
      ]
     },
     "execution_count": 15,
     "metadata": {},
     "output_type": "execute_result"
    }
   ],
   "source": [
    "5 < 4 + 3"
   ]
  },
  {
   "cell_type": "code",
   "execution_count": 16,
   "id": "7ee2b3e5",
   "metadata": {},
   "outputs": [
    {
     "data": {
      "text/plain": [
       "True"
      ]
     },
     "execution_count": 16,
     "metadata": {},
     "output_type": "execute_result"
    }
   ],
   "source": [
    "12 + 1 >= 12"
   ]
  },
  {
   "cell_type": "code",
   "execution_count": 17,
   "id": "33c80971",
   "metadata": {},
   "outputs": [
    {
     "data": {
      "text/plain": [
       "True"
      ]
     },
     "execution_count": 17,
     "metadata": {},
     "output_type": "execute_result"
    }
   ],
   "source": [
    "16 * 2 == 32"
   ]
  },
  {
   "cell_type": "code",
   "execution_count": 19,
   "id": "496efbbd",
   "metadata": {},
   "outputs": [
    {
     "data": {
      "text/plain": [
       "False"
      ]
     },
     "execution_count": 19,
     "metadata": {},
     "output_type": "execute_result"
    }
   ],
   "source": [
    "16 != 16\n"
   ]
  },
  {
   "cell_type": "code",
   "execution_count": 20,
   "id": "3acb3d80",
   "metadata": {},
   "outputs": [
    {
     "data": {
      "text/plain": [
       "False"
      ]
     },
     "execution_count": 20,
     "metadata": {},
     "output_type": "execute_result"
    }
   ],
   "source": [
    "5 >= 6"
   ]
  },
  {
   "cell_type": "code",
   "execution_count": 21,
   "id": "5aaf6105",
   "metadata": {},
   "outputs": [
    {
     "data": {
      "text/plain": [
       "4"
      ]
     },
     "execution_count": 21,
     "metadata": {},
     "output_type": "execute_result"
    }
   ],
   "source": [
    "# chia lấy nguyên\n",
    "9 // 2"
   ]
  },
  {
   "cell_type": "code",
   "execution_count": 22,
   "id": "0d496944",
   "metadata": {},
   "outputs": [
    {
     "data": {
      "text/plain": [
       "1"
      ]
     },
     "execution_count": 22,
     "metadata": {},
     "output_type": "execute_result"
    }
   ],
   "source": [
    "# chia lấy dư\n",
    "9 % 2"
   ]
  },
  {
   "cell_type": "code",
   "execution_count": 23,
   "id": "cc35ee72",
   "metadata": {},
   "outputs": [
    {
     "data": {
      "text/plain": [
       "9"
      ]
     },
     "execution_count": 23,
     "metadata": {},
     "output_type": "execute_result"
    }
   ],
   "source": [
    "# Lũy thừa\n",
    "pow(3, 2)"
   ]
  },
  {
   "cell_type": "code",
   "execution_count": 24,
   "id": "c395032e",
   "metadata": {},
   "outputs": [
    {
     "data": {
      "text/plain": [
       "81"
      ]
     },
     "execution_count": 24,
     "metadata": {},
     "output_type": "execute_result"
    }
   ],
   "source": [
    "3 ** 4"
   ]
  },
  {
   "cell_type": "code",
   "execution_count": 25,
   "id": "b9538b4a",
   "metadata": {},
   "outputs": [
    {
     "ename": "NameError",
     "evalue": "name 'sqrt' is not defined",
     "output_type": "error",
     "traceback": [
      "\u001b[0;31m---------------------------------------------------------------------------\u001b[0m",
      "\u001b[0;31mNameError\u001b[0m                                 Traceback (most recent call last)",
      "Cell \u001b[0;32mIn [25], line 1\u001b[0m\n\u001b[0;32m----> 1\u001b[0m \u001b[43msqrt\u001b[49m(\u001b[38;5;241m81\u001b[39m)\n",
      "\u001b[0;31mNameError\u001b[0m: name 'sqrt' is not defined"
     ]
    }
   ],
   "source": [
    "sqrt(81)"
   ]
  },
  {
   "cell_type": "code",
   "execution_count": 27,
   "id": "cad86a47",
   "metadata": {},
   "outputs": [
    {
     "data": {
      "text/plain": [
       "9.0"
      ]
     },
     "execution_count": 27,
     "metadata": {},
     "output_type": "execute_result"
    }
   ],
   "source": [
    "import math\n",
    "math.sqrt(81)"
   ]
  },
  {
   "cell_type": "code",
   "execution_count": 28,
   "id": "07fe9146",
   "metadata": {},
   "outputs": [
    {
     "data": {
      "text/plain": [
       "7"
      ]
     },
     "execution_count": 28,
     "metadata": {},
     "output_type": "execute_result"
    }
   ],
   "source": [
    "1 + 2 * 3 + 6 - 7 + (5 - 4)"
   ]
  },
  {
   "cell_type": "markdown",
   "id": "2addc5aa",
   "metadata": {},
   "source": [
    "## Strings"
   ]
  },
  {
   "cell_type": "code",
   "execution_count": 29,
   "id": "162cafe8",
   "metadata": {},
   "outputs": [
    {
     "data": {
      "text/plain": [
       "'Hello!'"
      ]
     },
     "execution_count": 29,
     "metadata": {},
     "output_type": "execute_result"
    }
   ],
   "source": [
    "\"Hello!\""
   ]
  },
  {
   "cell_type": "code",
   "execution_count": 30,
   "id": "b0803dd0",
   "metadata": {},
   "outputs": [
    {
     "data": {
      "text/plain": [
       "'Hello'"
      ]
     },
     "execution_count": 30,
     "metadata": {},
     "output_type": "execute_result"
    }
   ],
   "source": [
    "'Hello'"
   ]
  },
  {
   "cell_type": "markdown",
   "id": "bc8cc974",
   "metadata": {},
   "source": [
    "### String operatord\n",
    "- concatenation:+\n",
    "- multiplication *"
   ]
  },
  {
   "cell_type": "code",
   "execution_count": 31,
   "id": "65e8ad24",
   "metadata": {},
   "outputs": [
    {
     "data": {
      "text/plain": [
       "'Hithere'"
      ]
     },
     "execution_count": 31,
     "metadata": {},
     "output_type": "execute_result"
    }
   ],
   "source": [
    "\"Hi\" + \"there\""
   ]
  },
  {
   "cell_type": "code",
   "execution_count": 32,
   "id": "d1a71922",
   "metadata": {},
   "outputs": [
    {
     "data": {
      "text/plain": [
       "'HiHiHiHiHiHiHiHiHiHiHiHiHiHiHiHiHiHiHiHiHiHiHiHiHiHiHiHiHiHiHiHiHiHiHiHiHiHiHiHiHiHiHiHiHiHiHiHiHiHiHiHiHiHiHiHiHiHiHiHiHiHiHiHiHiHiHiHiHiHiHiHiHiHiHiHiHiHiHiHiHiHiHiHiHiHiHiHiHiHiHiHiHiHiHiHiHiHiHiHiHiHiHiHiHiHiHiHiHiHiHiHiHiHiHiHiHiHiHiHiHiHiHiHiHiHiHiHiHiHiHiHiHiHiHiHiHiHiHiHiHiHiHiHiHiHiHiHiHiHiHiHiHiHiHiHiHiHiHiHiHiHiHiHiHiHiHiHiHiHiHiHiHiHiHiHiHiHiHiHiHiHiHiHiHiHiHiHiHiHiHiHiHiHiHiHiHiHiHiHiHiHiHiHiHiHiHiHiHiHiHiHiHiHiHiHiHiHiHiHiHiHiHiHiHiHiHiHiHiHiHiHiHiHiHiHiHiHiHiHiHiHiHiHiHiHiHiHiHiHi'"
      ]
     },
     "execution_count": 32,
     "metadata": {},
     "output_type": "execute_result"
    }
   ],
   "source": [
    "\"Hi\" * 250"
   ]
  },
  {
   "cell_type": "markdown",
   "id": "64b92824",
   "metadata": {},
   "source": [
    "### Strings index\n",
    "Rules:\n",
    "- start at 0\n",
    "-spaces inside the string are counted"
   ]
  },
  {
   "cell_type": "code",
   "execution_count": 33,
   "id": "7ab95d90",
   "metadata": {},
   "outputs": [
    {
     "data": {
      "text/plain": [
       "'Hello'"
      ]
     },
     "execution_count": 33,
     "metadata": {},
     "output_type": "execute_result"
    }
   ],
   "source": [
    "\"H\" + \"e\" + \"l\" + \"l\" + \"o\""
   ]
  },
  {
   "cell_type": "code",
   "execution_count": 34,
   "id": "1fb5280f",
   "metadata": {},
   "outputs": [
    {
     "data": {
      "text/plain": [
       "'H'"
      ]
     },
     "execution_count": 34,
     "metadata": {},
     "output_type": "execute_result"
    }
   ],
   "source": [
    "'Hello'[0]"
   ]
  },
  {
   "cell_type": "code",
   "execution_count": 35,
   "id": "b841489d",
   "metadata": {},
   "outputs": [
    {
     "data": {
      "text/plain": [
       "' '"
      ]
     },
     "execution_count": 35,
     "metadata": {},
     "output_type": "execute_result"
    }
   ],
   "source": [
    "\"hey, Trang\"[4]"
   ]
  },
  {
   "cell_type": "markdown",
   "id": "f2b974f3",
   "metadata": {},
   "source": [
    "### Strings functions"
   ]
  },
  {
   "cell_type": "code",
   "execution_count": 36,
   "id": "9be26103",
   "metadata": {},
   "outputs": [
    {
     "data": {
      "text/plain": [
       "'HOÀNG LÊ ĐỨC HUY'"
      ]
     },
     "execution_count": 36,
     "metadata": {},
     "output_type": "execute_result"
    }
   ],
   "source": [
    "\"hoàng Lê Đức HUy\".upper()"
   ]
  },
  {
   "cell_type": "code",
   "execution_count": 37,
   "id": "09965d02",
   "metadata": {},
   "outputs": [
    {
     "data": {
      "text/plain": [
       "'hoàng lê đức huy'"
      ]
     },
     "execution_count": 37,
     "metadata": {},
     "output_type": "execute_result"
    }
   ],
   "source": [
    "\"HOÀNG LÊ ĐỨC HUY\".lower()"
   ]
  },
  {
   "cell_type": "code",
   "execution_count": 40,
   "id": "0a0dfa25",
   "metadata": {},
   "outputs": [
    {
     "data": {
      "text/plain": [
       "16"
      ]
     },
     "execution_count": 40,
     "metadata": {},
     "output_type": "execute_result"
    }
   ],
   "source": [
    "len(\"this is a string\")"
   ]
  },
  {
   "cell_type": "code",
   "execution_count": 41,
   "id": "f2529599",
   "metadata": {},
   "outputs": [
    {
     "ename": "AttributeError",
     "evalue": "'str' object has no attribute 'str'",
     "output_type": "error",
     "traceback": [
      "\u001b[0;31m---------------------------------------------------------------------------\u001b[0m",
      "\u001b[0;31mAttributeError\u001b[0m                            Traceback (most recent call last)",
      "Cell \u001b[0;32mIn [41], line 1\u001b[0m\n\u001b[0;32m----> 1\u001b[0m \u001b[38;5;124;43m\"\u001b[39;49m\u001b[38;5;124;43mthis is a string\u001b[39;49m\u001b[38;5;124;43m\"\u001b[39;49m\u001b[38;5;241;43m.\u001b[39;49m\u001b[43mstr\u001b[49m\u001b[38;5;241m.\u001b[39mlen()\n",
      "\u001b[0;31mAttributeError\u001b[0m: 'str' object has no attribute 'str'"
     ]
    }
   ],
   "source": [
    "\"this is a string\".str.len()"
   ]
  },
  {
   "cell_type": "code",
   "execution_count": 42,
   "id": "2a0c263c",
   "metadata": {},
   "outputs": [
    {
     "data": {
      "text/plain": [
       "'this is a string'"
      ]
     },
     "execution_count": 42,
     "metadata": {},
     "output_type": "execute_result"
    }
   ],
   "source": [
    "\"        this is a string       \".strip()"
   ]
  },
  {
   "cell_type": "code",
   "execution_count": 43,
   "id": "0d493205",
   "metadata": {},
   "outputs": [
    {
     "data": {
      "text/plain": [
       "True"
      ]
     },
     "execution_count": 43,
     "metadata": {},
     "output_type": "execute_result"
    }
   ],
   "source": [
    "\"#This is a string\".startswith(\"#\")"
   ]
  },
  {
   "cell_type": "code",
   "execution_count": 44,
   "id": "eba0b3b1",
   "metadata": {},
   "outputs": [
    {
     "ename": "AttributeError",
     "evalue": "'str' object has no attribute 'endswitch'",
     "output_type": "error",
     "traceback": [
      "\u001b[0;31m---------------------------------------------------------------------------\u001b[0m",
      "\u001b[0;31mAttributeError\u001b[0m                            Traceback (most recent call last)",
      "Cell \u001b[0;32mIn [44], line 1\u001b[0m\n\u001b[0;32m----> 1\u001b[0m \u001b[38;5;124;43m\"\u001b[39;49m\u001b[38;5;124;43m#This is a string\u001b[39;49m\u001b[38;5;124;43m\"\u001b[39;49m\u001b[38;5;241;43m.\u001b[39;49m\u001b[43mendswitch\u001b[49m(\u001b[38;5;124m\"\u001b[39m\u001b[38;5;124mstring\u001b[39m\u001b[38;5;124m\"\u001b[39m)\n",
      "\u001b[0;31mAttributeError\u001b[0m: 'str' object has no attribute 'endswitch'"
     ]
    }
   ],
   "source": [
    "\"#This is a string\".endswitch(\"string\")"
   ]
  },
  {
   "cell_type": "code",
   "execution_count": 45,
   "id": "0f7dd4d0",
   "metadata": {},
   "outputs": [
    {
     "data": {
      "text/plain": [
       "'l'"
      ]
     },
     "execution_count": 45,
     "metadata": {},
     "output_type": "execute_result"
    }
   ],
   "source": [
    "#Substring\n",
    "\"Hello world\"[2]"
   ]
  },
  {
   "cell_type": "code",
   "execution_count": 46,
   "id": "ef45bfc6",
   "metadata": {},
   "outputs": [
    {
     "data": {
      "text/plain": [
       "'llo world!'"
      ]
     },
     "execution_count": 46,
     "metadata": {},
     "output_type": "execute_result"
    }
   ],
   "source": [
    "\"Hello world!\"[2:]"
   ]
  },
  {
   "cell_type": "code",
   "execution_count": 48,
   "id": "61ac7dde",
   "metadata": {},
   "outputs": [
    {
     "data": {
      "text/plain": [
       "'llo worl'"
      ]
     },
     "execution_count": 48,
     "metadata": {},
     "output_type": "execute_result"
    }
   ],
   "source": [
    "\"Hello world!\"[2:10]"
   ]
  },
  {
   "cell_type": "code",
   "execution_count": 49,
   "id": "db85fbc3",
   "metadata": {},
   "outputs": [
    {
     "data": {
      "text/plain": [
       "'ello worl'"
      ]
     },
     "execution_count": 49,
     "metadata": {},
     "output_type": "execute_result"
    }
   ],
   "source": [
    "\"Hello world!\"[1:10:1]"
   ]
  },
  {
   "cell_type": "code",
   "execution_count": 50,
   "id": "583a6182",
   "metadata": {},
   "outputs": [
    {
     "data": {
      "text/plain": [
       "'el ol'"
      ]
     },
     "execution_count": 50,
     "metadata": {},
     "output_type": "execute_result"
    }
   ],
   "source": [
    "\"Hello world!\"[1:10:2]"
   ]
  },
  {
   "cell_type": "code",
   "execution_count": 53,
   "id": "271647c2",
   "metadata": {},
   "outputs": [
    {
     "name": "stdout",
     "output_type": "stream",
     "text": [
      "hello\n"
     ]
    }
   ],
   "source": [
    "s=input()"
   ]
  },
  {
   "cell_type": "code",
   "execution_count": 54,
   "id": "4d1bda2b",
   "metadata": {},
   "outputs": [
    {
     "data": {
      "text/plain": [
       "'hello'"
      ]
     },
     "execution_count": 54,
     "metadata": {},
     "output_type": "execute_result"
    }
   ],
   "source": [
    "s\n",
    "s"
   ]
  },
  {
   "cell_type": "code",
   "execution_count": 55,
   "id": "626dc6a8",
   "metadata": {},
   "outputs": [
    {
     "data": {
      "text/plain": [
       "str"
      ]
     },
     "execution_count": 55,
     "metadata": {},
     "output_type": "execute_result"
    }
   ],
   "source": [
    "type(s)"
   ]
  },
  {
   "cell_type": "code",
   "execution_count": 57,
   "id": "06919226",
   "metadata": {},
   "outputs": [
    {
     "data": {
      "text/plain": [
       "14"
      ]
     },
     "execution_count": 57,
     "metadata": {},
     "output_type": "execute_result"
    }
   ],
   "source": [
    "len(\"w3resource.com\")"
   ]
  },
  {
   "cell_type": "code",
   "execution_count": 58,
   "id": "097ab0e2",
   "metadata": {},
   "outputs": [
    {
     "name": "stdout",
     "output_type": "stream",
     "text": [
      "{'g': 2, 'o': 3, 'l': 1, 'e': 1, '.': 1, 'c': 1, 'm': 1}\n"
     ]
    }
   ],
   "source": [
    "def char_frequency(str1):\n",
    "    dict = {}\n",
    "    for n in str1:\n",
    "        keys = dict.keys()\n",
    "        if n in keys:\n",
    "            dict[n] += 1\n",
    "        else:\n",
    "            dict[n] = 1\n",
    "    return dict\n",
    "print(char_frequency('google.com'))"
   ]
  },
  {
   "cell_type": "markdown",
   "id": "54ea2817",
   "metadata": {},
   "source": [
    "### Types of data\n"
   ]
  },
  {
   "cell_type": "code",
   "execution_count": 1,
   "id": "ff660187",
   "metadata": {},
   "outputs": [],
   "source": [
    "s = \"Hello\""
   ]
  },
  {
   "cell_type": "code",
   "execution_count": 2,
   "id": "e691950a",
   "metadata": {},
   "outputs": [
    {
     "data": {
      "text/plain": [
       "str"
      ]
     },
     "execution_count": 2,
     "metadata": {},
     "output_type": "execute_result"
    }
   ],
   "source": [
    "type(s)"
   ]
  },
  {
   "cell_type": "code",
   "execution_count": 3,
   "id": "4bf46b8a",
   "metadata": {},
   "outputs": [],
   "source": [
    "s=14.6"
   ]
  },
  {
   "cell_type": "code",
   "execution_count": 4,
   "id": "134d0966",
   "metadata": {},
   "outputs": [
    {
     "data": {
      "text/plain": [
       "float"
      ]
     },
     "execution_count": 4,
     "metadata": {},
     "output_type": "execute_result"
    }
   ],
   "source": [
    "type(s)"
   ]
  },
  {
   "cell_type": "markdown",
   "id": "78aec4a6",
   "metadata": {},
   "source": [
    "### Booleans"
   ]
  },
  {
   "cell_type": "code",
   "execution_count": 6,
   "id": "a81fc7b1",
   "metadata": {},
   "outputs": [
    {
     "data": {
      "text/plain": [
       "True"
      ]
     },
     "execution_count": 6,
     "metadata": {},
     "output_type": "execute_result"
    }
   ],
   "source": [
    "True\n"
   ]
  },
  {
   "cell_type": "code",
   "execution_count": 7,
   "id": "a01b53ef",
   "metadata": {},
   "outputs": [
    {
     "data": {
      "text/plain": [
       "False"
      ]
     },
     "execution_count": 7,
     "metadata": {},
     "output_type": "execute_result"
    }
   ],
   "source": [
    "False"
   ]
  },
  {
   "cell_type": "code",
   "execution_count": 9,
   "id": "fec8aee1",
   "metadata": {},
   "outputs": [
    {
     "data": {
      "text/plain": [
       "True"
      ]
     },
     "execution_count": 9,
     "metadata": {},
     "output_type": "execute_result"
    }
   ],
   "source": [
    "# and\n",
    "1==1 and 1!=2\n"
   ]
  },
  {
   "cell_type": "code",
   "execution_count": 10,
   "id": "19c2f0e8",
   "metadata": {},
   "outputs": [
    {
     "data": {
      "text/plain": [
       "True"
      ]
     },
     "execution_count": 10,
     "metadata": {},
     "output_type": "execute_result"
    }
   ],
   "source": [
    "# or\n",
    "1==1 or 2==3"
   ]
  },
  {
   "cell_type": "markdown",
   "id": "52569544",
   "metadata": {},
   "source": [
    "### Lists(danh sach)"
   ]
  },
  {
   "cell_type": "markdown",
   "id": "288fbd14",
   "metadata": {},
   "source": [
    "Danh sach la chuoi cua cac doi tuong(objects)"
   ]
  },
  {
   "cell_type": "markdown",
   "id": "b793b798",
   "metadata": {},
   "source": [
    "### Danh sach da chieu( ma trạn la danh sách 2 chiều)"
   ]
  },
  {
   "cell_type": "markdown",
   "id": "8644a629",
   "metadata": {},
   "source": [
    "matrix = [\n",
    "    [10, 13, 14],\n",
    "    [40, 5, 8],\n",
    "    [4, 5, 7]\n",
    "]"
   ]
  },
  {
   "cell_type": "code",
   "execution_count": 12,
   "id": "eec8f213",
   "metadata": {},
   "outputs": [
    {
     "data": {
      "text/plain": [
       "[[10, 13, 14], [40, 5, 8], [4, 5, 7]]"
      ]
     },
     "execution_count": 12,
     "metadata": {},
     "output_type": "execute_result"
    }
   ],
   "source": [
    "matrix"
   ]
  },
  {
   "cell_type": "markdown",
   "id": "c4cf4af9",
   "metadata": {},
   "source": [
    "    Bài tập:\n",
    "    Viết một hàm: Kiểm tra một số, in ra màn hình\"là số lẻ\" nếu số đó là số lẻ, \"là số chẵn nếu số đó là số chẵn\n",
    "    "
   ]
  },
  {
   "cell_type": "code",
   "execution_count": 2,
   "id": "8e441960",
   "metadata": {},
   "outputs": [
    {
     "name": "stdout",
     "output_type": "stream",
     "text": [
      "Nhập một số nguyên: 9,8\n",
      "Vui lòng nhập một số nguyên.\n"
     ]
    }
   ],
   "source": [
    "def kiem_tra_so_le_chan():\n",
    "    try:\n",
    "        so = int(input(\"Nhập một số nguyên: \"))\n",
    "        if so % 2 == 0:\n",
    "            print(f\"{so} là số chẵn\")\n",
    "        else:\n",
    "            print(f\"{so} là số lẻ\")\n",
    "    except ValueError:\n",
    "        print(\"Vui lòng nhập một số nguyên.\")\n",
    "\n",
    "kiem_tra_so_le_chan()\n",
    "\n"
   ]
  },
  {
   "cell_type": "markdown",
   "id": "dc784147",
   "metadata": {},
   "source": [
    "Viết hàm có tham số là 2 số, in ra kết quả là tichs 2 số đos"
   ]
  },
  {
   "cell_type": "code",
   "execution_count": 3,
   "id": "26b1f2d9",
   "metadata": {},
   "outputs": [
    {
     "name": "stdout",
     "output_type": "stream",
     "text": [
      "Nhập số thứ nhất: 4\n",
      "Nhập số thứ hai: 5\n",
      "Tích của 4.0 và 5.0 là 20.0\n"
     ]
    }
   ],
   "source": [
    "def tinh_tich():\n",
    "    try:\n",
    "        a = float(input(\"Nhập số thứ nhất: \"))\n",
    "        b = float(input(\"Nhập số thứ hai: \"))\n",
    "        ket_qua = a * b\n",
    "        print(f\"Tích của {a} và {b} là {ket_qua}\")\n",
    "    except ValueError:\n",
    "        print(\"Vui lòng nhập số hợp lệ.\")\n",
    "tinh_tich()\n"
   ]
  },
  {
   "cell_type": "markdown",
   "id": "8fc1b313",
   "metadata": {},
   "source": [
    "## Functions: Output(Giá trị trả về của hàm)"
   ]
  },
  {
   "cell_type": "code",
   "execution_count": 5,
   "id": "04a7a093",
   "metadata": {},
   "outputs": [],
   "source": [
    "def hello_there():\n",
    "    print (\"Type your name:\")\n",
    "    name = input()\n",
    "    print(\"Hi\", name, \"How are you?\")"
   ]
  },
  {
   "cell_type": "markdown",
   "id": "14eea7e1",
   "metadata": {},
   "source": [
    "Game 1:\n"
   ]
  },
  {
   "cell_type": "code",
   "execution_count": 8,
   "id": "9f058d34",
   "metadata": {},
   "outputs": [
    {
     "ename": "SyntaxError",
     "evalue": "invalid syntax (2901907554.py, line 9)",
     "output_type": "error",
     "traceback": [
      "\u001b[0;36m  Cell \u001b[0;32mIn [8], line 9\u001b[0;36m\u001b[0m\n\u001b[0;31m    elif secret number > guess:\u001b[0m\n\u001b[0m                ^\u001b[0m\n\u001b[0;31mSyntaxError\u001b[0m\u001b[0;31m:\u001b[0m invalid syntax\n"
     ]
    }
   ],
   "source": [
    "from random import randint\n",
    "secret_number = randint(1, 10)\n",
    "while True: \n",
    "    guess = input(\"What number am I thinking of? \")\n",
    "    \n",
    "    if secret_number == guess: \n",
    "        print(\"Yay! You got it.\")\n",
    "        break\n",
    "    elif secret number > guess:\n",
    "        print(\"No, that's too low.\")\n",
    "    else:\n",
    "        print(\"No, that's too high.\")"
   ]
  },
  {
   "cell_type": "code",
   "execution_count": null,
   "id": "46d0ad36",
   "metadata": {},
   "outputs": [],
   "source": []
  }
 ],
 "metadata": {
  "kernelspec": {
   "display_name": "Python 3 (ipykernel)",
   "language": "python",
   "name": "python3"
  },
  "language_info": {
   "codemirror_mode": {
    "name": "ipython",
    "version": 3
   },
   "file_extension": ".py",
   "mimetype": "text/x-python",
   "name": "python",
   "nbconvert_exporter": "python",
   "pygments_lexer": "ipython3",
   "version": "3.9.7"
  }
 },
 "nbformat": 4,
 "nbformat_minor": 5
}
